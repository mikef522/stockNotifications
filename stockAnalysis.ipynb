{
 "cells": [
  {
   "cell_type": "code",
   "execution_count": null,
   "id": "complicated-highland",
   "metadata": {},
   "outputs": [],
   "source": [
    "from main import performStockAnalysis\n",
    "from datetime import datetime\n",
    "\n",
    "##start of Program\n",
    "stockSymbolList = ['xpev']\n",
    "datesOfInterest = [datetime(2021,1,29)]\n",
    "willEmailStockData = False\n",
    "emailRecipients = ['mikef522@gmail.com']\n",
    "\n",
    "notificationsEmailAddress = 'stocknotificationsmike@gmail.com'\n",
    "notificationsEmailPassword = 'mikef_522'\n",
    "\n",
    "userOptions = {\n",
    "    'stockSymbolList': [],\n",
    "    'datesOfInterest': [],\n",
    "    'willEmailStockData': False,\n",
    "    'emailRecipients': [],\n",
    "    'numRowsForGraphs': 4,\n",
    "    'numColsForGraphs': 4,\n",
    "    'showGraphs': False,\n",
    "    'saveGraphs': True,\n",
    "    'saveExcel': True,\n",
    "    'notificationEmailAddress': 'No notification email address specified',\n",
    "    'notificationEmailPassword': 'No notification email password specified'\n",
    "}\n",
    "\n",
    "userOptions['stockSymbolList'] = stockSymbolList\n",
    "userOptions['datesOfInterest'] = datesOfInterest\n",
    "userOptions['willEmailStockData'] = willEmailStockData\n",
    "userOptions['emailRecipients'] = emailRecipients\n",
    "\n",
    "userOptions['notificationEmailAddress'] = notificationsEmailAddress\n",
    "userOptions['notificationEmailPassword'] = notificationsEmailPassword\n",
    "\n",
    "performStockAnalysis(userOptions)"
   ]
  },
  {
   "cell_type": "code",
   "execution_count": null,
   "id": "circular-arabic",
   "metadata": {},
   "outputs": [],
   "source": []
  }
 ],
 "metadata": {
  "kernelspec": {
   "display_name": "Python 3",
   "language": "python",
   "name": "python3"
  },
  "language_info": {
   "codemirror_mode": {
    "name": "ipython",
    "version": 3
   },
   "file_extension": ".py",
   "mimetype": "text/x-python",
   "name": "python",
   "nbconvert_exporter": "python",
   "pygments_lexer": "ipython3",
   "version": "3.9.1"
  }
 },
 "nbformat": 4,
 "nbformat_minor": 5
}
